{
 "cells": [
  {
   "cell_type": "markdown",
   "metadata": {},
   "source": [
    "**Hello World Example**\n",
    "\n",
    "_This notebook is partly based on Chapter 3 of Aurelien Geron: Hand-on Machine Learning with Scikit-learn & Tensorflow._"
   ]
  },
  {
   "cell_type": "markdown",
   "metadata": {},
   "source": [
    "# Setup"
   ]
  },
  {
   "cell_type": "markdown",
   "metadata": {},
   "source": [
    "First, let's make sure this notebook works well in both python 2 and 3, import a few common modules, ensure MatplotLib plots figures inline and prepare a function to save the figures:"
   ]
  },
  {
   "cell_type": "code",
   "execution_count": 1,
   "metadata": {},
   "outputs": [],
   "source": [
    "# To support both python 2 and python 3\n",
    "from __future__ import division, print_function, unicode_literals\n",
    "\n",
    "# Common imports\n",
    "import numpy as np\n",
    "import os\n",
    "\n",
    " \n",
    "import matplotlib\n",
    "import matplotlib.pyplot as plt\n",
    "\n",
    " "
   ]
  },
  {
   "cell_type": "markdown",
   "metadata": {},
   "source": [
    "A couple utility functions to plot grayscale and RGB images:"
   ]
  },
  {
   "cell_type": "code",
   "execution_count": 2,
   "metadata": {},
   "outputs": [],
   "source": [
    "def plot_image(image):\n",
    "    plt.imshow(image, cmap=\"gray\", interpolation=\"nearest\")\n",
    "    plt.axis(\"off\")\n",
    "\n",
    "def plot_color_image(image):\n",
    "    plt.imshow(image.astype(np.uint8),interpolation=\"nearest\")\n",
    "    plt.axis(\"off\")"
   ]
  },
  {
   "cell_type": "markdown",
   "metadata": {},
   "source": [
    "# Import the Keras API from Tensorflow"
   ]
  },
  {
   "cell_type": "code",
   "execution_count": 3,
   "metadata": {},
   "outputs": [],
   "source": [
    "import tensorflow as tf\n",
    "import tensorflow.keras\n",
    "from tensorflow.keras.models import Sequential\n",
    "from tensorflow.keras.layers import Dense, Flatten, Conv2D, MaxPooling2D , Dropout , BatchNormalization  \n",
    "\n",
    "# from tensorflow.keras import backend as K"
   ]
  },
  {
   "cell_type": "markdown",
   "metadata": {},
   "source": [
    "# MNIST\n",
    "\n",
    "MNIST is the hello world example of machine learning. scikit-learn can load the data directly from https://www.openml.org"
   ]
  },
  {
   "cell_type": "code",
   "execution_count": 4,
   "metadata": {
    "scrolled": true
   },
   "outputs": [
    {
     "name": "stdout",
     "output_type": "stream",
     "text": [
      "Data size: 70000 x 784 and label size 70000\n",
      "The images are of size: 28.0 x 28.0\n"
     ]
    }
   ],
   "source": [
    "import math\n",
    "from sklearn.datasets import fetch_openml\n",
    "\n",
    "X,y = fetch_openml('mnist_784',version=1,cache=True,return_X_y=True)\n",
    "\n",
    "# Use the notion of y=f(X)\n",
    "y = y.astype(int)\n",
    "print('Data size: {0} x {1} and label size {2}'.format(X.shape[0],X.shape[1],y.shape[0]))\n",
    "print('The images are of size: {0} x {0}'.format(math.sqrt(X.shape[1])))"
   ]
  },
  {
   "cell_type": "markdown",
   "metadata": {},
   "source": [
    "# Test and Training Data\n",
    "Let's split into training images and test images."
   ]
  },
  {
   "cell_type": "code",
   "execution_count": 5,
   "metadata": {},
   "outputs": [
    {
     "name": "stdout",
     "output_type": "stream",
     "text": [
      "Matrix shape X:  (56000, 28, 28, 1)\n",
      "56000 samples for training\n",
      "14000 samples for testing\n"
     ]
    }
   ],
   "source": [
    "from sklearn.model_selection import train_test_split\n",
    "\n",
    "X_train, X_test, y_train, y_test = train_test_split(X, y, test_size= .2, stratify=y, random_state=42)\n",
    "\n",
    "\n",
    "# shuffle_index = np.random.permutation(70000)\n",
    "# reshuffle the data and use 60000 samples as training and 10000 as test\n",
    "# X_train, X_test, y_train, y_test = X[shuffle_index[:60000],:], X[shuffle_index[60000:],:], y[shuffle_index[:60000]], y[shuffle_index[60000:]]\n",
    "\n",
    "\n",
    "X_train = X_train.to_numpy( )\n",
    "X_test  = X_test.to_numpy(  )\n",
    "\n",
    "\n",
    "\n",
    "# reshape into images\n",
    "X_train = X_train.reshape(X_train.shape[0],28,28,1)\n",
    "X_test = X_test.reshape(X_test.shape[0],28,28,1)\n",
    "\n",
    "print('Matrix shape X: ', X_train.shape)\n",
    "print('{0} samples for training'.format(X_train.shape[0]))\n",
    "print('{0} samples for testing'.format(X_test.shape[0]))"
   ]
  },
  {
   "cell_type": "markdown",
   "metadata": {},
   "source": [
    "Plot an image as sanity check."
   ]
  },
  {
   "cell_type": "code",
   "execution_count": 6,
   "metadata": {},
   "outputs": [
    {
     "data": {
      "image/png": "[encoded data removed]",
      "text/plain": [
       "<Figure size 640x480 with 1 Axes>"
      ]
     },
     "metadata": {},
     "output_type": "display_data"
    }
   ],
   "source": [
    "plot_image(X_train[15000,:,:,0])\n",
    "\n",
    "# print('Number: ', y_train[15000])"
   ]
  },
  {
   "cell_type": "markdown",
   "metadata": {},
   "source": [
    "# CNN Model\n",
    " "
   ]
  },
  {
   "cell_type": "code",
   "execution_count": 7,
   "metadata": {},
   "outputs": [
    {
     "name": "stderr",
     "output_type": "stream",
     "text": [
      "WARNING:absl:`lr` is deprecated, please use `learning_rate` instead, or use the legacy optimizer, e.g.,tf.keras.optimizers.legacy.SGD.\n"
     ]
    }
   ],
   "source": [
    "\n",
    "\n",
    "model = Sequential() \n",
    "\n",
    "\n",
    "\n",
    "model.add( Conv2D( 11 , kernel_size=( 5 ,5 ), activation='relu', padding='same', input_shape=( 28 , 28 , 1 ) ))\n",
    "\n",
    "model.add( Conv2D( 9 , kernel_size=( 3 ,3), activation='relu', strides= (1,1), padding='valid'  ))\n",
    "model.add ( BatchNormalization() ) \n",
    "\n",
    "model.add(MaxPooling2D(pool_size=(2, 2)))\n",
    "\n",
    "\n",
    "model.add( Conv2D( 5 , kernel_size=( 3 ,3), activation='relu',   padding='valid'  ))\n",
    "  \n",
    "model.add( Dropout( 0.5 ) )\n",
    " \n",
    "model.add(Flatten())\n",
    "\n",
    "model.add(Dense(20, activation='relu'))\n",
    "model.add(Dense( 10, activation='softmax'))\n",
    "\n",
    "\n",
    "\n",
    "sgd = tensorflow.keras.optimizers.SGD( lr= 0.0005 )\n",
    "\n",
    "model.compile(loss='categorical_crossentropy',    \n",
    "              optimizer=sgd,  \n",
    "              metrics=['accuracy'])\n",
    "\n"
   ]
  },
  {
   "cell_type": "code",
   "execution_count": 8,
   "metadata": {
    "scrolled": true
   },
   "outputs": [
    {
     "name": "stdout",
     "output_type": "stream",
     "text": [
      "Model: \"sequential\"\n",
      "_________________________________________________________________\n",
      " Layer (type)                Output Shape              Param #   \n",
      "=================================================================\n",
      " conv2d (Conv2D)             (None, 28, 28, 11)        286       \n",
      "                                                                 \n",
      " conv2d_1 (Conv2D)           (None, 26, 26, 9)         900       \n",
      "                                                                 \n",
      " batch_normalization (BatchN  (None, 26, 26, 9)        36        \n",
      " ormalization)                                                   \n",
      "                                                                 \n",
      " max_pooling2d (MaxPooling2D  (None, 13, 13, 9)        0         \n",
      " )                                                               \n",
      "                                                                 \n",
      " conv2d_2 (Conv2D)           (None, 11, 11, 5)         410       \n",
      "                                                                 \n",
      " dropout (Dropout)           (None, 11, 11, 5)         0         \n",
      "                                                                 \n",
      " flatten (Flatten)           (None, 605)               0         \n",
      "                                                                 \n",
      " dense (Dense)               (None, 20)                12120     \n",
      "                                                                 \n",
      " dense_1 (Dense)             (None, 10)                210       \n",
      "                                                                 \n",
      "=================================================================\n",
      "Total params: 13,962\n",
      "Trainable params: 13,944\n",
      "Non-trainable params: 18\n",
      "_________________________________________________________________\n",
      "None\n"
     ]
    }
   ],
   "source": [
    "print(model.summary())"
   ]
  },
  {
   "cell_type": "markdown",
   "metadata": {},
   "source": [
    "### Turn the numbers into one-hot vectors"
   ]
  },
  {
   "cell_type": "code",
   "execution_count": null,
   "metadata": {},
   "outputs": [],
   "source": []
  },
  {
   "cell_type": "code",
   "execution_count": 9,
   "metadata": {},
   "outputs": [],
   "source": [
    "nClasses = 10\n",
    "\n",
    "# Use Keras' handy utils\n",
    "y_train_k = tensorflow.keras.utils.to_categorical(y_train, num_classes= nClasses )\n",
    "y_test_k = tensorflow.keras.utils.to_categorical(y_test, num_classes=nClasses )\n",
    "\n"
   ]
  },
  {
   "cell_type": "code",
   "execution_count": 10,
   "metadata": {},
   "outputs": [],
   "source": [
    "\n",
    "\n",
    "y_train = np.array ( y_train)\n",
    "y_test =  np.array ( y_test)\n",
    "\n"
   ]
  },
  {
   "cell_type": "markdown",
   "metadata": {},
   "source": [
    "See if it worked"
   ]
  },
  {
   "cell_type": "code",
   "execution_count": null,
   "metadata": {},
   "outputs": [],
   "source": [
    "  \n",
    "\n",
    " "
   ]
  },
  {
   "cell_type": "code",
   "execution_count": 11,
   "metadata": {},
   "outputs": [
    {
     "name": "stdout",
     "output_type": "stream",
     "text": [
      "0   [1. 0. 0. 0. 0. 0. 0. 0. 0. 0.]\n",
      "7   [0. 0. 0. 0. 0. 0. 0. 1. 0. 0.]\n",
      "8   [0. 0. 0. 0. 0. 0. 0. 0. 1. 0.]\n",
      "9   [0. 0. 0. 0. 0. 0. 0. 0. 0. 1.]\n",
      "7   [0. 0. 0. 0. 0. 0. 0. 1. 0. 0.]\n",
      "5   [0. 0. 0. 0. 0. 1. 0. 0. 0. 0.]\n",
      "3   [0. 0. 0. 1. 0. 0. 0. 0. 0. 0.]\n",
      "9   [0. 0. 0. 0. 0. 0. 0. 0. 0. 1.]\n",
      "9   [0. 0. 0. 0. 0. 0. 0. 0. 0. 1.]\n",
      "6   [0. 0. 0. 0. 0. 0. 1. 0. 0. 0.]\n"
     ]
    }
   ],
   "source": [
    "for i in range(0,200,20):\n",
    "    print(y_train[i], \" \", y_train_k[i,:])\n"
   ]
  },
  {
   "cell_type": "markdown",
   "metadata": {},
   "source": [
    "# MNIST Training"
   ]
  },
  {
   "cell_type": "code",
   "execution_count": 12,
   "metadata": {
    "scrolled": false
   },
   "outputs": [
    {
     "name": "stdout",
     "output_type": "stream",
     "text": [
      "Epoch 1/20\n",
      "1750/1750 [==============================] - 26s 14ms/step - loss: 0.4927 - accuracy: 0.8422 - val_loss: 0.1356 - val_accuracy: 0.9601\n",
      "Epoch 2/20\n",
      "1750/1750 [==============================] - 24s 14ms/step - loss: 0.1740 - accuracy: 0.9461 - val_loss: 0.0974 - val_accuracy: 0.9705\n",
      "Epoch 3/20\n",
      "1750/1750 [==============================] - 24s 14ms/step - loss: 0.1355 - accuracy: 0.9576 - val_loss: 0.0805 - val_accuracy: 0.9761\n",
      "Epoch 4/20\n",
      "1750/1750 [==============================] - 24s 14ms/step - loss: 0.1166 - accuracy: 0.9632 - val_loss: 0.0739 - val_accuracy: 0.9768\n",
      "Epoch 5/20\n",
      "1750/1750 [==============================] - 24s 14ms/step - loss: 0.1048 - accuracy: 0.9673 - val_loss: 0.0754 - val_accuracy: 0.9777\n",
      "Epoch 6/20\n",
      "1750/1750 [==============================] - 24s 14ms/step - loss: 0.0966 - accuracy: 0.9701 - val_loss: 0.0597 - val_accuracy: 0.9823\n",
      "Epoch 7/20\n",
      "1750/1750 [==============================] - 24s 14ms/step - loss: 0.0903 - accuracy: 0.9724 - val_loss: 0.0643 - val_accuracy: 0.9809\n",
      "Epoch 8/20\n",
      "1750/1750 [==============================] - 24s 14ms/step - loss: 0.0844 - accuracy: 0.9738 - val_loss: 0.0602 - val_accuracy: 0.9814\n",
      "Epoch 9/20\n",
      "1750/1750 [==============================] - 24s 14ms/step - loss: 0.0808 - accuracy: 0.9751 - val_loss: 0.0534 - val_accuracy: 0.9836\n",
      "Epoch 10/20\n",
      "1750/1750 [==============================] - 24s 14ms/step - loss: 0.0797 - accuracy: 0.9747 - val_loss: 0.0560 - val_accuracy: 0.9829\n",
      "Epoch 11/20\n",
      "1750/1750 [==============================] - 26s 15ms/step - loss: 0.0759 - accuracy: 0.9760 - val_loss: 0.0488 - val_accuracy: 0.9856\n",
      "Epoch 12/20\n",
      "1750/1750 [==============================] - 26s 15ms/step - loss: 0.0731 - accuracy: 0.9774 - val_loss: 0.0503 - val_accuracy: 0.9847\n",
      "Epoch 13/20\n",
      "1750/1750 [==============================] - 27s 16ms/step - loss: 0.0713 - accuracy: 0.9775 - val_loss: 0.0483 - val_accuracy: 0.9852\n",
      "Epoch 14/20\n",
      "1750/1750 [==============================] - 29s 17ms/step - loss: 0.0693 - accuracy: 0.9783 - val_loss: 0.0486 - val_accuracy: 0.9861\n",
      "Epoch 15/20\n",
      "1750/1750 [==============================] - 26s 15ms/step - loss: 0.0668 - accuracy: 0.9794 - val_loss: 0.0479 - val_accuracy: 0.9858\n",
      "Epoch 16/20\n",
      "1750/1750 [==============================] - 27s 15ms/step - loss: 0.0637 - accuracy: 0.9798 - val_loss: 0.0467 - val_accuracy: 0.9862\n",
      "Epoch 17/20\n",
      "1750/1750 [==============================] - 25s 14ms/step - loss: 0.0617 - accuracy: 0.9799 - val_loss: 0.0529 - val_accuracy: 0.9836\n",
      "Epoch 18/20\n",
      "1750/1750 [==============================] - 25s 14ms/step - loss: 0.0623 - accuracy: 0.9799 - val_loss: 0.0434 - val_accuracy: 0.9864\n",
      "Epoch 19/20\n",
      "1750/1750 [==============================] - 25s 14ms/step - loss: 0.0602 - accuracy: 0.9814 - val_loss: 0.0427 - val_accuracy: 0.9874\n",
      "Epoch 20/20\n",
      "1750/1750 [==============================] - 25s 14ms/step - loss: 0.0597 - accuracy: 0.9810 - val_loss: 0.0392 - val_accuracy: 0.9886\n"
     ]
    }
   ],
   "source": [
    "batchSize = 32         #  train  56,000/32 >>>>1750 batches\n",
    "nEpochs = 20\n",
    "\n",
    "history = model.fit( X_train, y_train_k, batch_size=batchSize, epochs=nEpochs , verbose=1, \n",
    "                    validation_data=(X_test, y_test_k )    )\n"
   ]
  },
  {
   "cell_type": "code",
   "execution_count": 13,
   "metadata": {},
   "outputs": [
    {
     "name": "stdout",
     "output_type": "stream",
     "text": [
      "438/438 [==============================] - 2s 4ms/step\n"
     ]
    }
   ],
   "source": [
    "\n",
    "\n",
    "y_predict = model.predict(X_test.astype(float))\n",
    "\n"
   ]
  },
  {
   "cell_type": "code",
   "execution_count": 14,
   "metadata": {},
   "outputs": [
    {
     "name": "stdout",
     "output_type": "stream",
     "text": [
      "[1.2569029e-07 5.8433628e-08 2.3828898e-06 6.5198187e-06 1.2100573e-09\n",
      " 2.0174171e-09 3.4226860e-14 9.9999070e-01 2.1757383e-09 6.3070203e-08]\n",
      "7\n"
     ]
    }
   ],
   "source": [
    "\n",
    "\n",
    "print( y_predict[0] )\n",
    "\n",
    "x  =  y_predict[0] \n",
    "\n",
    "print( np.argmax(x ) )\n"
   ]
  },
  {
   "cell_type": "code",
   "execution_count": null,
   "metadata": {},
   "outputs": [],
   "source": [
    " \n",
    "    "
   ]
  },
  {
   "cell_type": "code",
   "execution_count": null,
   "metadata": {},
   "outputs": [],
   "source": []
  },
  {
   "cell_type": "code",
   "execution_count": 15,
   "metadata": {},
   "outputs": [],
   "source": [
    "from sklearn.metrics import classification_report\n",
    "import seaborn as sns \n",
    "\n",
    "from sklearn.metrics import confusion_matrix\n",
    "\n",
    "def drawing_conf_matrix(  y_actual , y_predict ):\n",
    "    \n",
    "    print( \"Classification Report\" )\n",
    "    print ( classification_report(  y_actual , y_predict  )  )  # to represent accuacy, precision, recall and f1 score\n",
    "\n",
    "    conf_mat = confusion_matrix( y_actual,   y_predict )   # to represent confusion matrix ( TP , FP , FN , FN )\n",
    "    \n",
    "    print( \"Confusion Matrix\")\n",
    "    print( conf_mat )\n",
    "    sns.heatmap( conf_mat , annot= True  , fmt = \"\" )\n",
    "    plt.ylabel('True label')\n",
    "    plt.xlabel('Predicted label')\n",
    "\n",
    "    \n",
    "    \n",
    "    "
   ]
  },
  {
   "cell_type": "code",
   "execution_count": 16,
   "metadata": {},
   "outputs": [
    {
     "name": "stdout",
     "output_type": "stream",
     "text": [
      "Classification Report\n",
      "              precision    recall  f1-score   support\n",
      "\n",
      "           0       0.99      0.99      0.99      1381\n",
      "           1       1.00      0.99      0.99      1575\n",
      "           2       0.99      0.99      0.99      1398\n",
      "           3       0.99      0.99      0.99      1428\n",
      "           4       0.99      0.98      0.99      1365\n",
      "           5       0.99      0.99      0.99      1263\n",
      "           6       0.99      0.99      0.99      1375\n",
      "           7       0.99      0.99      0.99      1459\n",
      "           8       0.99      0.99      0.99      1365\n",
      "           9       0.97      0.99      0.98      1391\n",
      "\n",
      "    accuracy                           0.99     14000\n",
      "   macro avg       0.99      0.99      0.99     14000\n",
      "weighted avg       0.99      0.99      0.99     14000\n",
      "\n",
      "Confusion Matrix\n",
      "[[1373    0    0    0    0    0    1    0    6    1]\n",
      " [   0 1559    6    1    2    0    1    6    0    0]\n",
      " [   2    0 1381    2    1    0    1    5    4    2]\n",
      " [   1    0    1 1412    1    6    0    4    1    2]\n",
      " [   1    2    0    0 1342    0    1    0    1   18]\n",
      " [   0    0    0    1    0 1254    5    0    2    1]\n",
      " [   6    0    0    0    3    4 1359    0    3    0]\n",
      " [   1    3    3    1    4    0    0 1438    0    9]\n",
      " [   0    0    0    2    0    2    2    0 1349   10]\n",
      " [   1    2    0    1    5    3    1    2    3 1373]]\n"
     ]
    },
    {
     "data": {
      "image/png": "[encoded data removed]",
      "text/plain": [
       "<Figure size 640x480 with 2 Axes>"
      ]
     },
     "metadata": {},
     "output_type": "display_data"
    }
   ],
   "source": [
    "\n",
    "\n",
    "drawing_conf_matrix(  y_test, np.argmax(y_predict,axis=1)  )\n",
    "    \n",
    "    "
   ]
  },
  {
   "cell_type": "code",
   "execution_count": null,
   "metadata": {},
   "outputs": [],
   "source": []
  },
  {
   "cell_type": "code",
   "execution_count": null,
   "metadata": {},
   "outputs": [],
   "source": []
  },
  {
   "cell_type": "markdown",
   "metadata": {},
   "source": [
    "# Training History Visualization "
   ]
  },
  {
   "cell_type": "markdown",
   "metadata": {},
   "source": [
    "**Accuracy**\n",
    "Source: Keras manual"
   ]
  },
  {
   "cell_type": "code",
   "execution_count": 17,
   "metadata": {},
   "outputs": [
    {
     "data": {
      "image/png": "[encoded data removed]",
      "text/plain": [
       "<Figure size 640x480 with 1 Axes>"
      ]
     },
     "metadata": {},
     "output_type": "display_data"
    }
   ],
   "source": [
    "# dictionary keys seems to have changed in version 2\n",
    "k = ''\n",
    "if 'accuracy' in history.history :\n",
    "    k = 'accuracy'    \n",
    "\n",
    "if 'acc' in history.history :\n",
    "    k = 'acc'\n",
    "    \n",
    "    \n",
    "if k != '' :    \n",
    "    plt.plot(history.history[k])\n",
    "    plt.plot(history.history['val_'+k])\n",
    "    plt.title('Model Accuracy')\n",
    "    plt.ylabel('Accuracy')\n",
    "    plt.xlabel('Epoch')\n",
    "    plt.legend(['train', 'test'], loc='upper left')\n",
    "    plt.show()\n",
    " \n"
   ]
  },
  {
   "cell_type": "markdown",
   "metadata": {},
   "source": [
    "**Loss**\n",
    "Source: Keras manual"
   ]
  },
  {
   "cell_type": "code",
   "execution_count": 18,
   "metadata": {},
   "outputs": [
    {
     "data": {
      "text/plain": [
       "'val_accuracy'"
      ]
     },
     "execution_count": 18,
     "metadata": {},
     "output_type": "execute_result"
    }
   ],
   "source": [
    "history.history.keys()\n",
    "'val_' + k\n",
    "\n",
    "\n"
   ]
  },
  {
   "cell_type": "code",
   "execution_count": 19,
   "metadata": {},
   "outputs": [
    {
     "data": {
      "image/png": "[encoded data removed]",
      "text/plain": [
       "<Figure size 640x480 with 1 Axes>"
      ]
     },
     "metadata": {},
     "output_type": "display_data"
    }
   ],
   "source": [
    "plt.plot(history.history['loss'])\n",
    "plt.plot(history.history['val_loss'])\n",
    "plt.title('Model loss')\n",
    "plt.ylabel('Loss')\n",
    "plt.xlabel('Epoch')\n",
    "plt.legend(['train', 'test'], loc='upper left')\n",
    "plt.show()\n",
    "\n"
   ]
  },
  {
   "cell_type": "code",
   "execution_count": null,
   "metadata": {},
   "outputs": [],
   "source": []
  },
  {
   "cell_type": "code",
   "execution_count": null,
   "metadata": {},
   "outputs": [],
   "source": []
  },
  {
   "cell_type": "code",
   "execution_count": null,
   "metadata": {},
   "outputs": [],
   "source": []
  },
  {
   "cell_type": "code",
   "execution_count": null,
   "metadata": {},
   "outputs": [],
   "source": []
  }
 ],
 "metadata": {
  "kernelspec": {
   "display_name": "Python 3 (ipykernel)",
   "language": "python",
   "name": "python3"
  },
  "language_info": {
   "codemirror_mode": {
    "name": "ipython",
    "version": 3
   },
   "file_extension": ".py",
   "mimetype": "text/x-python",
   "name": "python",
   "nbconvert_exporter": "python",
   "pygments_lexer": "ipython3",
   "version": "3.9.13"
  },
  "nav_menu": {},
  "toc": {
   "navigate_menu": true,
   "number_sections": true,
   "sideBar": true,
   "threshold": 6,
   "toc_cell": false,
   "toc_section_display": "block",
   "toc_window_display": false
  }
 },
 "nbformat": 4,
 "nbformat_minor": 1
}
