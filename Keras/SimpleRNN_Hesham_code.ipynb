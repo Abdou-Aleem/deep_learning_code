{
 "cells": [
  {
   "cell_type": "code",
   "execution_count": 1,
   "metadata": {
    "colab": {
     "base_uri": "https://localhost:8080/"
    },
    "id": "n91kiat_kHe1",
    "outputId": "2925882d-dc4c-4515-a8d1-ae9561405182"
   },
   "outputs": [
    {
     "name": "stdout",
     "output_type": "stream",
     "text": [
      "Downloading data from https://storage.googleapis.com/tensorflow/tf-keras-datasets/imdb.npz\n",
      "17464789/17464789 [==============================] - 5s 0us/step\n",
      "Data loaded successfully.\n",
      "# Train Data =  25000\n",
      "# Test Data =  25000\n"
     ]
    }
   ],
   "source": [
    "# Load Dependencies\n",
    "from keras.preprocessing import sequence\n",
    "from keras.models import Sequential\n",
    "from keras.layers import Dense, Dropout, Embedding, SimpleRNN\n",
    "from keras.datasets import imdb\n",
    "from keras.callbacks import TensorBoard\n",
    "\n",
    "# Hyper-Parameters\n",
    "max_features = 5000\n",
    "no_classes = 1\n",
    "max_length = 100\n",
    "batch_size = 64\n",
    "embedding_size = 64\n",
    "dropout_rate = 0.5\n",
    "hidden_layer_size = 250\n",
    "no_epochs = 5\n",
    "\n",
    "# Load IMDB Data from Keras datasets\n",
    "(x_train, y_train), (x_test, y_test) = imdb.load_data(num_words=max_features)\n",
    "print('Data loaded successfully.')\n",
    "print('# Train Data = ', len(x_train))\n",
    "print('# Test Data = ', len(x_test))"
   ]
  },
  {
   "cell_type": "code",
   "execution_count": 2,
   "metadata": {
    "id": "FbdcGmfWlJLH"
   },
   "outputs": [],
   "source": [
    "from keras.utils import pad_sequences\n"
   ]
  },
  {
   "cell_type": "code",
   "execution_count": 3,
   "metadata": {
    "id": "fj9WXPQokIlD"
   },
   "outputs": [],
   "source": [
    "x_train = pad_sequences(x_train, maxlen=max_length)\n",
    "x_test = pad_sequences(x_test, maxlen=max_length)\n"
   ]
  },
  {
   "cell_type": "code",
   "execution_count": 4,
   "metadata": {
    "colab": {
     "base_uri": "https://localhost:8080/",
     "height": 499
    },
    "id": "vXeMOvDVknyL",
    "outputId": "0a4ac83f-e7aa-4f85-86c3-36cc1ee8b579"
   },
   "outputs": [
    {
     "name": "stdout",
     "output_type": "stream",
     "text": [
      "Training the model..\n",
      "Epoch 1/5\n",
      "391/391 - 10s - loss: 0.5481 - accuracy: 0.6902 - val_loss: 0.4251 - val_accuracy: 0.8182 - 10s/epoch - 24ms/step\n",
      "Epoch 2/5\n",
      "391/391 - 8s - loss: 0.3669 - accuracy: 0.8464 - val_loss: 0.3632 - val_accuracy: 0.8435 - 8s/epoch - 21ms/step\n",
      "Epoch 3/5\n",
      "391/391 - 9s - loss: 0.3070 - accuracy: 0.8752 - val_loss: 0.3973 - val_accuracy: 0.8385 - 9s/epoch - 22ms/step\n",
      "Epoch 4/5\n",
      "391/391 - 9s - loss: 0.2583 - accuracy: 0.8954 - val_loss: 0.4538 - val_accuracy: 0.8306 - 9s/epoch - 24ms/step\n",
      "Epoch 5/5\n",
      "391/391 - 9s - loss: 0.2202 - accuracy: 0.9164 - val_loss: 0.4236 - val_accuracy: 0.8372 - 9s/epoch - 23ms/step\n"
     ]
    },
    {
     "data": {
      "text/plain": [
       "<keras.callbacks.History at 0x119742a35b0>"
      ]
     },
     "execution_count": 4,
     "metadata": {},
     "output_type": "execute_result"
    }
   ],
   "source": [
    "\n",
    "RNN_model = Sequential()\n",
    "# Add Embedding layer\n",
    "RNN_model.add(Embedding(max_features, embedding_size, input_length=max_length))\n",
    "RNN_model.add(Dropout(dropout_rate))\n",
    "# Add Simple RNN layer\n",
    "RNN_model.add(SimpleRNN(input_dim=1,units=25, batch_input_shape=(1, 3)))\n",
    "# Add Dense Hidden Layer\n",
    "RNN_model.add(Dense(hidden_layer_size, activation='relu'))\n",
    "RNN_model.add(Dropout(dropout_rate))\n",
    "# Output Layer\n",
    "RNN_model.add(Dense(no_classes, activation='sigmoid'))\n",
    "\n",
    "# Configure model\n",
    "RNN_model.compile(loss='binary_crossentropy', optimizer='adam', metrics=['accuracy'])\n",
    "\n",
    "# TensorBoard\n",
    "tensorboard = TensorBoard('./logs/SimpleRNN')\n",
    "\n",
    "# Train!\n",
    "print('Training the model..')\n",
    "RNN_model.fit(x_train, y_train, batch_size=batch_size, verbose=2, epochs=no_epochs, validation_data=(x_test, y_test), callbacks = [tensorboard])"
   ]
  },
  {
   "cell_type": "code",
   "execution_count": null,
   "metadata": {
    "id": "zAYi6mh3mu6W"
   },
   "outputs": [],
   "source": []
  }
 ],
 "metadata": {
  "colab": {
   "provenance": []
  },
  "kernelspec": {
   "display_name": "Python 3 (ipykernel)",
   "language": "python",
   "name": "python3"
  },
  "language_info": {
   "codemirror_mode": {
    "name": "ipython",
    "version": 3
   },
   "file_extension": ".py",
   "mimetype": "text/x-python",
   "name": "python",
   "nbconvert_exporter": "python",
   "pygments_lexer": "ipython3",
   "version": "3.9.13"
  }
 },
 "nbformat": 4,
 "nbformat_minor": 1
}
