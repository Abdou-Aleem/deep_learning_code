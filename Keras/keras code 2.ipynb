{
 "cells": [
  {
   "cell_type": "code",
   "execution_count": null,
   "id": "0335998a",
   "metadata": {},
   "outputs": [],
   "source": []
  },
  {
   "cell_type": "code",
   "execution_count": null,
   "id": "8bf3f1f0",
   "metadata": {},
   "outputs": [],
   "source": []
  },
  {
   "cell_type": "code",
   "execution_count": 1,
   "id": "65bff8d4",
   "metadata": {},
   "outputs": [
    {
     "name": "stdout",
     "output_type": "stream",
     "text": [
      "Downloading data from https://storage.googleapis.com/tensorflow/tf-keras-datasets/mnist.npz\n",
      "11490434/11490434 [==============================] - 3s 0us/step\n",
      "Epoch 1/10\n",
      "844/844 [==============================] - 15s 17ms/step - loss: 0.1956 - accuracy: 0.9408 - val_loss: 0.0606 - val_accuracy: 0.9823\n",
      "Epoch 2/10\n",
      "844/844 [==============================] - 14s 17ms/step - loss: 0.0601 - accuracy: 0.9813 - val_loss: 0.0480 - val_accuracy: 0.9883\n",
      "Epoch 3/10\n",
      "844/844 [==============================] - 14s 16ms/step - loss: 0.0423 - accuracy: 0.9870 - val_loss: 0.0396 - val_accuracy: 0.9913\n",
      "Epoch 4/10\n",
      "844/844 [==============================] - 14s 16ms/step - loss: 0.0323 - accuracy: 0.9901 - val_loss: 0.0430 - val_accuracy: 0.9887\n",
      "Epoch 5/10\n",
      "844/844 [==============================] - 14s 16ms/step - loss: 0.0256 - accuracy: 0.9918 - val_loss: 0.0412 - val_accuracy: 0.9892\n",
      "Epoch 6/10\n",
      "844/844 [==============================] - 14s 16ms/step - loss: 0.0213 - accuracy: 0.9934 - val_loss: 0.0568 - val_accuracy: 0.9852\n",
      "Epoch 7/10\n",
      "844/844 [==============================] - 15s 17ms/step - loss: 0.0164 - accuracy: 0.9946 - val_loss: 0.0434 - val_accuracy: 0.9888\n",
      "Epoch 8/10\n",
      "844/844 [==============================] - 14s 16ms/step - loss: 0.0131 - accuracy: 0.9957 - val_loss: 0.0439 - val_accuracy: 0.9895\n",
      "Epoch 9/10\n",
      "844/844 [==============================] - 14s 16ms/step - loss: 0.0113 - accuracy: 0.9962 - val_loss: 0.0565 - val_accuracy: 0.9882\n",
      "Epoch 10/10\n",
      "844/844 [==============================] - 14s 16ms/step - loss: 0.0092 - accuracy: 0.9969 - val_loss: 0.0429 - val_accuracy: 0.9918\n",
      "313/313 [==============================] - 1s 3ms/step - loss: 0.0278 - accuracy: 0.9915\n",
      "Test Loss: 0.027800926938652992\n",
      "Test Accuracy: 0.9915000200271606\n"
     ]
    }
   ],
   "source": [
    "import tensorflow as tf\n",
    "from tensorflow import keras\n",
    "from tensorflow.keras import layers\n",
    "\n",
    "# Load the MNIST dataset\n",
    "(x_train, y_train), (x_test, y_test) = keras.datasets.mnist.load_data()\n",
    "\n",
    "# Normalize the data\n",
    "x_train = x_train.astype(\"float32\") / 255.0\n",
    "x_test = x_test.astype(\"float32\") / 255.0\n",
    "\n",
    "# Add a channel dimension (for grayscale images)\n",
    "x_train = x_train[..., tf.newaxis]\n",
    "x_test = x_test[..., tf.newaxis]\n",
    "\n",
    "# Define the model\n",
    "model = keras.Sequential(\n",
    "    [\n",
    "        layers.Conv2D(32, (3, 3), activation=\"relu\", input_shape=(28, 28, 1)),\n",
    "        layers.MaxPooling2D((2, 2)),\n",
    "        layers.Conv2D(64, (3, 3), activation=\"relu\"),\n",
    "        layers.MaxPooling2D((2, 2)),\n",
    "        layers.Flatten(),\n",
    "        layers.Dense(64, activation=\"relu\"),\n",
    "        layers.Dense(10, activation=\"softmax\"),\n",
    "    ]\n",
    ")\n",
    "\n",
    "# Compile the model\n",
    "model.compile(\n",
    "    optimizer=\"adam\",\n",
    "    loss=\"sparse_categorical_crossentropy\",\n",
    "    metrics=[\"accuracy\"],\n",
    ")\n",
    "\n",
    "# Train the model\n",
    "model.fit(x_train, y_train, batch_size=64, epochs=10, validation_split=0.1)\n",
    "\n",
    "# Evaluate the model\n",
    "test_loss, test_acc = model.evaluate(x_test, y_test)\n",
    "print(f\"Test Loss: {test_loss}\")\n",
    "print(f\"Test Accuracy: {test_acc}\")"
   ]
  },
  {
   "cell_type": "code",
   "execution_count": null,
   "id": "42d33923",
   "metadata": {},
   "outputs": [],
   "source": []
  },
  {
   "cell_type": "code",
   "execution_count": null,
   "id": "cb0c3433",
   "metadata": {},
   "outputs": [],
   "source": []
  },
  {
   "cell_type": "code",
   "execution_count": null,
   "id": "ef07980b",
   "metadata": {},
   "outputs": [],
   "source": []
  }
 ],
 "metadata": {
  "kernelspec": {
   "display_name": "Python 3 (ipykernel)",
   "language": "python",
   "name": "python3"
  },
  "language_info": {
   "codemirror_mode": {
    "name": "ipython",
    "version": 3
   },
   "file_extension": ".py",
   "mimetype": "text/x-python",
   "name": "python",
   "nbconvert_exporter": "python",
   "pygments_lexer": "ipython3",
   "version": "3.9.13"
  }
 },
 "nbformat": 4,
 "nbformat_minor": 5
}
